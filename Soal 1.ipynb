{
  "nbformat": 4,
  "nbformat_minor": 0,
  "metadata": {
    "colab": {
      "provenance": [],
      "authorship_tag": "ABX9TyMi02vrh8kSgHAt8gKEXQdL",
      "include_colab_link": true
    },
    "kernelspec": {
      "name": "python3",
      "display_name": "Python 3"
    },
    "language_info": {
      "name": "python"
    }
  },
  "cells": [
    {
      "cell_type": "markdown",
      "metadata": {
        "id": "view-in-github",
        "colab_type": "text"
      },
      "source": [
        "<a href=\"https://colab.research.google.com/github/TegarrIndra/PPLG-KEV/blob/main/Soal%201.ipynb\" target=\"_parent\"><img src=\"https://colab.research.google.com/assets/colab-badge.svg\" alt=\"Open In Colab\"/></a>"
      ]
    },
    {
      "cell_type": "code",
      "execution_count": null,
      "metadata": {
        "id": "hrq78i47J4_1"
      },
      "outputs": [],
      "source": []
    },
    {
      "cell_type": "markdown",
      "source": [
        "soal\n",
        "\n",
        "1.buatlah sebuah program untuk menentukan bilangan\n",
        "positif,negatif dan bilangan 0\n",
        "\n",
        "Jawaban\n",
        "\n"
      ],
      "metadata": {
        "id": "f-k1EJWCJ7FK"
      }
    },
    {
      "cell_type": "code",
      "source": [
        "#bilangan Positif\n",
        "bilangan = 5\n",
        "if bilangan > 0:\n",
        "   print(\"Bilangan positif\")\n",
        "elif bilangan == 0:\n",
        "   print(\"Bilangan 0\")\n",
        "else:\n",
        "   print(\"Bilangan negatif\")"
      ],
      "metadata": {
        "colab": {
          "base_uri": "https://localhost:8080/"
        },
        "id": "W4DyzWcJNL_E",
        "outputId": "ef6ed892-09d2-429b-e7b5-d30e75ff47ab"
      },
      "execution_count": 18,
      "outputs": [
        {
          "output_type": "stream",
          "name": "stdout",
          "text": [
            "Bilangan positif\n"
          ]
        }
      ]
    },
    {
      "cell_type": "code",
      "source": [
        "#Bilangan Negatif\n",
        "bilangan = -9\n",
        "if bilangan > 0:\n",
        "   print(\"Bilangan positif\")\n",
        "elif bilangan == 0:\n",
        "   print(\"Bilangan 0\")\n",
        "else:\n",
        "   print(\"Bilangan negatif\")"
      ],
      "metadata": {
        "colab": {
          "base_uri": "https://localhost:8080/"
        },
        "id": "gW4JdfdoVNu5",
        "outputId": "3cb03fe0-6736-4da8-e555-c9d3d62312a0"
      },
      "execution_count": 20,
      "outputs": [
        {
          "output_type": "stream",
          "name": "stdout",
          "text": [
            "Bilangan negatif\n"
          ]
        }
      ]
    },
    {
      "cell_type": "code",
      "source": [
        "#Bilangan 0\n",
        "bilangan = 0\n",
        "if bilangan > 0:\n",
        "   print(\"Bilangan positif\")\n",
        "elif bilangan == 0:\n",
        "   print(\"Bilangan 0\")\n",
        "else:\n",
        "   print(\"Bilangan negatif\")"
      ],
      "metadata": {
        "colab": {
          "base_uri": "https://localhost:8080/"
        },
        "id": "KrjQ_ZqkVhHp",
        "outputId": "1b487be2-c5c8-4af8-b8a5-4997e4ebd6cc"
      },
      "execution_count": 21,
      "outputs": [
        {
          "output_type": "stream",
          "name": "stdout",
          "text": [
            "Bilangan 0\n"
          ]
        }
      ]
    },
    {
      "cell_type": "markdown",
      "source": [
        "#Penjelasan\n",
        "\n",
        "if, elif dan else adalah pernyataan kondisional yang digunakan dalam bahasa pemrograman Python.\n",
        "Dengan conditional statement, kita dapat membandingkan suatu variable dan memeriksanya apakah variable tersebut memiliki nilai atau merupakan suatu boolean, dan selanjutnya memeriksa apakah True atau False.\n",
        "\n",
        "#Algoritma\n",
        "\n",
        "1. Mulai\n",
        "2. Input tulisan mengecek Bilangan Positif atau negatif\n",
        "3. Input/masukan nilai bilangan\n",
        "4. Jika bilangan lebih besar dari 0 maka cetak positif\n",
        "5. Jika bilangan lebih kecil dari 0 maka cetak negatif\n",
        "6. Jika bilangan sama dengan 0 maka hasilnya 0\n",
        "7. Selesai\n",
        "\n",
        "#Flowchart\n",
        "\n",
        "![flowchart positif negatif dan 0.png](data:image/png;base64,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)\n",
        "\n"
      ],
      "metadata": {
        "id": "njLUsrNAVmt8"
      }
    }
  ]
}